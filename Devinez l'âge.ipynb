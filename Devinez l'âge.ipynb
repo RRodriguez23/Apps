{
 "cells": [
  {
   "cell_type": "code",
   "execution_count": null,
   "id": "d10b8787",
   "metadata": {},
   "outputs": [],
   "source": [
    "import datetime\n",
    "from datetime import date\n",
    "\n",
    "def calcul_age(dt_anniv):\n",
    "    auj=date.today()\n",
    "    age=auj.year-dt_anniv.year-((auj.month,auj.day)<(dt_anniv.month,dt_anniv.day))  #Comparaison True(1) or False(0)\n",
    "    return age\n",
    "    \n",
    "def main():\n",
    "    try:\n",
    "        dda_str=input(\"Date de naissance (jj-mm-aaaa):\")\n",
    "        dda=datetime.datetime.strptime(dda_str,\"%d-%m-%Y\").date()\n",
    "        age=calcul_age(dda)\n",
    "        print (f\"Vous avez {age} ans.\")\n",
    "    except ValueError:\n",
    "        print (\"Format invalide. SVP utilisez jj-mm-aaaa.\")\n",
    "        \n",
    "if __name__==\"__main__\":\n",
    "    main()"
   ]
  },
  {
   "cell_type": "code",
   "execution_count": 24,
   "id": "6662a7e8",
   "metadata": {},
   "outputs": [],
   "source": [
    "import datetime\n",
    "from datetime import date\n",
    "from tkinter import Tk,Label,Entry,Button,StringVar\n",
    "from functools import partial\n",
    "\n",
    "def calcul_age(dt_anniv):\n",
    "    auj=date.today()\n",
    "    age=auj.year-dt_anniv.year-((auj.month,auj.day)<(dt_anniv.month,dt_anniv.day))  #Comparaison True(1) or False(0)\n",
    "    return age\n",
    "\n",
    "def main():\n",
    "    dda_str=utildda.get()\n",
    "    try:\n",
    "        dda=datetime.datetime.strptime(dda_str,\"%d-%m-%Y\").date()\n",
    "        age=calcul_age(dda)\n",
    "        message=f\"{age} ans.\"\n",
    "    except ValueError:\n",
    "        message=\"Format invalide. SVP utilisez jj-mm-aaaa.\"\n",
    "    label2.config(text=message)\n",
    "    \n",
    "def activer_button(event):\n",
    "    main()\n",
    "        \n",
    "if __name__==\"__main__\":\n",
    "    root=Tk()\n",
    "    utildda=StringVar(root)\n",
    "    label=Label(root,text=\"Devinez l'âge\",font=(\"Arial\",50),foreground=\"#892222\")\n",
    "    label1=Label(root,text='Vous avez :',font=(\"Helvetica\",30))\n",
    "    label2=Label(root,font=(\"Arial\",30),foreground='#8A2BE2')\n",
    "    entry_name=Entry(root,textvariable=utildda,font=(\"Helvetica\",40),justify='center')\n",
    "    button=Button(root,text='Calcul',font=(\"Arial\",25),command=main)\n",
    "\n",
    "    label.grid(column=0,row=0)\n",
    "    entry_name.grid(column=0,row=1,padx=20, pady=20)\n",
    "    button.grid(column=0,row=2,padx=20, pady=20)\n",
    "    label1.grid(column=0,row=3,padx=20, pady=20)\n",
    "    label2.grid(column=0,row=4,padx=20, pady=20)\n",
    "    \n",
    "    root.geometry(\"700x500\")\n",
    "    root.bind('<Return>',activer_button)\n",
    "    root.mainloop()"
   ]
  }
 ],
 "metadata": {
  "kernelspec": {
   "display_name": "Python 3 (ipykernel)",
   "language": "python",
   "name": "python3"
  },
  "language_info": {
   "codemirror_mode": {
    "name": "ipython",
    "version": 3
   },
   "file_extension": ".py",
   "mimetype": "text/x-python",
   "name": "python",
   "nbconvert_exporter": "python",
   "pygments_lexer": "ipython3",
   "version": "3.9.12"
  }
 },
 "nbformat": 4,
 "nbformat_minor": 5
}
