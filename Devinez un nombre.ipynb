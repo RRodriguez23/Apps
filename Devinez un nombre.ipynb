{
 "cells": [
  {
   "cell_type": "code",
   "execution_count": 17,
   "id": "747c6b27",
   "metadata": {},
   "outputs": [],
   "source": [
    "import random\n",
    "from tkinter import Tk,StringVar,Label,Entry,Button,IntVar #ou from tkinter import * mais peut causer des conflits\n",
    "from functools import partial\n",
    "\n",
    "#D'abord on va générer un nombre aléatoire de 1 à 100 qu'on va stocker dans la variable \"nombre\"\n",
    "nombre=random.randint(1,100)\n",
    "\n",
    "def devine():\n",
    "\n",
    "    NbSaisi=utilNb.get()    #On récupere le numéro saisit par l'utilisateur \n",
    "\n",
    "    # if/else vérification et boucle\n",
    "    if NbSaisi > nombre:\n",
    "        message = \"Trop elevé, ressayez.\"\n",
    "    elif NbSaisi == nombre:\n",
    "        message = \"Correct! Félicitations!\"\n",
    "    else:\n",
    "        message = \"Trop bas, ressayez.\"\n",
    "    label2.config(text=message)\n",
    "     \n",
    "#Interface    \n",
    "root=Tk()\n",
    "utilNb=IntVar(root)\n",
    "label=Label(root,text='Devinez le nombre!')\n",
    "label1=Label(root,text='Résultat :')\n",
    "label2=Label(root)\n",
    "entry_name=Entry(root,textvariable=utilNb)\n",
    "button=Button(root,text='Click',command=partial(devine))\n",
    "\n",
    "label.grid(column=0,row=0)\n",
    "entry_name.grid(column=0,row=1)\n",
    "button.grid(column=0,row=2)\n",
    "label1.grid(column=0,row=3)\n",
    "label2.grid(column=0,row=4)\n",
    "\n",
    "root.mainloop()"
   ]
  }
 ],
 "metadata": {
  "kernelspec": {
   "display_name": "Python 3 (ipykernel)",
   "language": "python",
   "name": "python3"
  },
  "language_info": {
   "codemirror_mode": {
    "name": "ipython",
    "version": 3
   },
   "file_extension": ".py",
   "mimetype": "text/x-python",
   "name": "python",
   "nbconvert_exporter": "python",
   "pygments_lexer": "ipython3",
   "version": "3.9.12"
  }
 },
 "nbformat": 4,
 "nbformat_minor": 5
}
